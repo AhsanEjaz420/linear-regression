{
 "cells": [
  {
   "cell_type": "markdown",
   "metadata": {
    "id": "jN2uCHIB-T3x",
    "tags": []
   },
   "source": [
    "# Lecture 13 – Data Science\n"
   ]
  },
  {
   "cell_type": "code",
   "execution_count": 28,
   "metadata": {
    "id": "m27Hx0RV-T30"
   },
   "outputs": [],
   "source": [
    "import numpy as np\n",
    "import pandas as pd\n",
    "import matplotlib.pyplot as plt\n",
    "%matplotlib inline\n",
    "import seaborn as sns"
   ]
  },
  {
   "cell_type": "markdown",
   "metadata": {
    "id": "kKq6JD8j-T32"
   },
   "source": [
    "## Multiple Linear Regression"
   ]
  },
  {
   "cell_type": "markdown",
   "metadata": {
    "id": "hORZvCn_-T32"
   },
   "source": [
    "Let's load in a new dataset. This is aggregate per-player data from the 2018-19 NBA season, downloaded from [Kaggle](https://www.kaggle.com/schmadam97/nba-regular-season-stats-20182019)."
   ]
  },
  {
   "cell_type": "code",
   "execution_count": 2,
   "metadata": {
    "id": "inHnfKIz-T32"
   },
   "outputs": [],
   "source": [
    "nba = pd.read_csv(r'D:/junotbok/5th week/nba18-19_lec12.csv', index_col=0)\n",
    "# Drops name of index (players are ordered by rank)\n",
    "nba.index.name = None"
   ]
  },
  {
   "cell_type": "code",
   "execution_count": 3,
   "metadata": {
    "id": "znW-7RDk-T33",
    "outputId": "18aea488-2f35-4b02-d432-6a63ff75130d"
   },
   "outputs": [
    {
     "data": {
      "text/html": [
       "<div>\n",
       "<style scoped>\n",
       "    .dataframe tbody tr th:only-of-type {\n",
       "        vertical-align: middle;\n",
       "    }\n",
       "\n",
       "    .dataframe tbody tr th {\n",
       "        vertical-align: top;\n",
       "    }\n",
       "\n",
       "    .dataframe thead th {\n",
       "        text-align: right;\n",
       "    }\n",
       "</style>\n",
       "<table border=\"1\" class=\"dataframe\">\n",
       "  <thead>\n",
       "    <tr style=\"text-align: right;\">\n",
       "      <th></th>\n",
       "      <th>Player</th>\n",
       "      <th>Pos</th>\n",
       "      <th>Age</th>\n",
       "      <th>Tm</th>\n",
       "      <th>G</th>\n",
       "      <th>GS</th>\n",
       "      <th>MP</th>\n",
       "      <th>FG</th>\n",
       "      <th>FGA</th>\n",
       "      <th>FG%</th>\n",
       "      <th>...</th>\n",
       "      <th>FT%</th>\n",
       "      <th>ORB</th>\n",
       "      <th>DRB</th>\n",
       "      <th>TRB</th>\n",
       "      <th>AST</th>\n",
       "      <th>STL</th>\n",
       "      <th>BLK</th>\n",
       "      <th>TOV</th>\n",
       "      <th>PF</th>\n",
       "      <th>PTS</th>\n",
       "    </tr>\n",
       "  </thead>\n",
       "  <tbody>\n",
       "    <tr>\n",
       "      <th>1</th>\n",
       "      <td>Álex Abrines\\abrinal01</td>\n",
       "      <td>SG</td>\n",
       "      <td>25</td>\n",
       "      <td>OKC</td>\n",
       "      <td>31</td>\n",
       "      <td>2</td>\n",
       "      <td>19.0</td>\n",
       "      <td>1.8</td>\n",
       "      <td>5.1</td>\n",
       "      <td>0.357</td>\n",
       "      <td>...</td>\n",
       "      <td>0.923</td>\n",
       "      <td>0.2</td>\n",
       "      <td>1.4</td>\n",
       "      <td>1.5</td>\n",
       "      <td>0.6</td>\n",
       "      <td>0.5</td>\n",
       "      <td>0.2</td>\n",
       "      <td>0.5</td>\n",
       "      <td>1.7</td>\n",
       "      <td>5.3</td>\n",
       "    </tr>\n",
       "    <tr>\n",
       "      <th>2</th>\n",
       "      <td>Quincy Acy\\acyqu01</td>\n",
       "      <td>PF</td>\n",
       "      <td>28</td>\n",
       "      <td>PHO</td>\n",
       "      <td>10</td>\n",
       "      <td>0</td>\n",
       "      <td>12.3</td>\n",
       "      <td>0.4</td>\n",
       "      <td>1.8</td>\n",
       "      <td>0.222</td>\n",
       "      <td>...</td>\n",
       "      <td>0.700</td>\n",
       "      <td>0.3</td>\n",
       "      <td>2.2</td>\n",
       "      <td>2.5</td>\n",
       "      <td>0.8</td>\n",
       "      <td>0.1</td>\n",
       "      <td>0.4</td>\n",
       "      <td>0.4</td>\n",
       "      <td>2.4</td>\n",
       "      <td>1.7</td>\n",
       "    </tr>\n",
       "    <tr>\n",
       "      <th>3</th>\n",
       "      <td>Jaylen Adams\\adamsja01</td>\n",
       "      <td>PG</td>\n",
       "      <td>22</td>\n",
       "      <td>ATL</td>\n",
       "      <td>34</td>\n",
       "      <td>1</td>\n",
       "      <td>12.6</td>\n",
       "      <td>1.1</td>\n",
       "      <td>3.2</td>\n",
       "      <td>0.345</td>\n",
       "      <td>...</td>\n",
       "      <td>0.778</td>\n",
       "      <td>0.3</td>\n",
       "      <td>1.4</td>\n",
       "      <td>1.8</td>\n",
       "      <td>1.9</td>\n",
       "      <td>0.4</td>\n",
       "      <td>0.1</td>\n",
       "      <td>0.8</td>\n",
       "      <td>1.3</td>\n",
       "      <td>3.2</td>\n",
       "    </tr>\n",
       "    <tr>\n",
       "      <th>4</th>\n",
       "      <td>Steven Adams\\adamsst01</td>\n",
       "      <td>C</td>\n",
       "      <td>25</td>\n",
       "      <td>OKC</td>\n",
       "      <td>80</td>\n",
       "      <td>80</td>\n",
       "      <td>33.4</td>\n",
       "      <td>6.0</td>\n",
       "      <td>10.1</td>\n",
       "      <td>0.595</td>\n",
       "      <td>...</td>\n",
       "      <td>0.500</td>\n",
       "      <td>4.9</td>\n",
       "      <td>4.6</td>\n",
       "      <td>9.5</td>\n",
       "      <td>1.6</td>\n",
       "      <td>1.5</td>\n",
       "      <td>1.0</td>\n",
       "      <td>1.7</td>\n",
       "      <td>2.6</td>\n",
       "      <td>13.9</td>\n",
       "    </tr>\n",
       "    <tr>\n",
       "      <th>5</th>\n",
       "      <td>Bam Adebayo\\adebaba01</td>\n",
       "      <td>C</td>\n",
       "      <td>21</td>\n",
       "      <td>MIA</td>\n",
       "      <td>82</td>\n",
       "      <td>28</td>\n",
       "      <td>23.3</td>\n",
       "      <td>3.4</td>\n",
       "      <td>5.9</td>\n",
       "      <td>0.576</td>\n",
       "      <td>...</td>\n",
       "      <td>0.735</td>\n",
       "      <td>2.0</td>\n",
       "      <td>5.3</td>\n",
       "      <td>7.3</td>\n",
       "      <td>2.2</td>\n",
       "      <td>0.9</td>\n",
       "      <td>0.8</td>\n",
       "      <td>1.5</td>\n",
       "      <td>2.5</td>\n",
       "      <td>8.9</td>\n",
       "    </tr>\n",
       "  </tbody>\n",
       "</table>\n",
       "<p>5 rows × 29 columns</p>\n",
       "</div>"
      ],
      "text/plain": [
       "                   Player Pos  Age   Tm   G  GS    MP   FG   FGA    FG%  ...  \\\n",
       "1  Álex Abrines\\abrinal01  SG   25  OKC  31   2  19.0  1.8   5.1  0.357  ...   \n",
       "2      Quincy Acy\\acyqu01  PF   28  PHO  10   0  12.3  0.4   1.8  0.222  ...   \n",
       "3  Jaylen Adams\\adamsja01  PG   22  ATL  34   1  12.6  1.1   3.2  0.345  ...   \n",
       "4  Steven Adams\\adamsst01   C   25  OKC  80  80  33.4  6.0  10.1  0.595  ...   \n",
       "5   Bam Adebayo\\adebaba01   C   21  MIA  82  28  23.3  3.4   5.9  0.576  ...   \n",
       "\n",
       "     FT%  ORB  DRB  TRB  AST  STL  BLK  TOV   PF   PTS  \n",
       "1  0.923  0.2  1.4  1.5  0.6  0.5  0.2  0.5  1.7   5.3  \n",
       "2  0.700  0.3  2.2  2.5  0.8  0.1  0.4  0.4  2.4   1.7  \n",
       "3  0.778  0.3  1.4  1.8  1.9  0.4  0.1  0.8  1.3   3.2  \n",
       "4  0.500  4.9  4.6  9.5  1.6  1.5  1.0  1.7  2.6  13.9  \n",
       "5  0.735  2.0  5.3  7.3  2.2  0.9  0.8  1.5  2.5   8.9  \n",
       "\n",
       "[5 rows x 29 columns]"
      ]
     },
     "execution_count": 3,
     "metadata": {},
     "output_type": "execute_result"
    }
   ],
   "source": [
    "nba.head(5)"
   ]
  },
  {
   "cell_type": "markdown",
   "metadata": {
    "id": "BoMKKY_3-T34"
   },
   "source": [
    "<br/>\n",
    "We are interested in predicting the number of points (`PTS`) an athlete will score in a basketball game this season.\n",
    "\n",
    "Suppose we want to fit a linear model by using some characteristics, or **feature**s of a player. Specifically, we'll focus on field goals, assists, and 3-point attempts.\n",
    "\n",
    "- `FG`, the number of (2-point) field goals per game\n",
    "- `AST`, the average number of assists per game, and\n",
    "- `3PA`, the number of 3-point field goals attempted per game\n",
    "\n",
    "This is how we express that model:\n",
    "\n",
    "$$\n",
    "\\hat{y}\n",
    "=\n",
    "\\theta_0 +\n",
    "\\theta_1 \\cdot \\textbf{FG} +\n",
    "\\theta_2 \\cdot \\textbf{AST} +\n",
    "\\theta_3 \\cdot \\textbf{3PA}\n",
    "$$"
   ]
  },
  {
   "cell_type": "code",
   "execution_count": 4,
   "metadata": {},
   "outputs": [
    {
     "name": "stdout",
     "output_type": "stream",
     "text": [
      "<class 'pandas.core.frame.DataFrame'>\n",
      "Index: 708 entries, 1 to 530\n",
      "Data columns (total 29 columns):\n",
      " #   Column  Non-Null Count  Dtype  \n",
      "---  ------  --------------  -----  \n",
      " 0   Player  708 non-null    object \n",
      " 1   Pos     708 non-null    object \n",
      " 2   Age     708 non-null    int64  \n",
      " 3   Tm      708 non-null    object \n",
      " 4   G       708 non-null    int64  \n",
      " 5   GS      708 non-null    int64  \n",
      " 6   MP      708 non-null    float64\n",
      " 7   FG      708 non-null    float64\n",
      " 8   FGA     708 non-null    float64\n",
      " 9   FG%     702 non-null    float64\n",
      " 10  3P      708 non-null    float64\n",
      " 11  3PA     708 non-null    float64\n",
      " 12  3P%     661 non-null    float64\n",
      " 13  2P      708 non-null    float64\n",
      " 14  2PA     708 non-null    float64\n",
      " 15  2P%     693 non-null    float64\n",
      " 16  eFG%    702 non-null    float64\n",
      " 17  FT      708 non-null    float64\n",
      " 18  FTA     708 non-null    float64\n",
      " 19  FT%     665 non-null    float64\n",
      " 20  ORB     708 non-null    float64\n",
      " 21  DRB     708 non-null    float64\n",
      " 22  TRB     708 non-null    float64\n",
      " 23  AST     708 non-null    float64\n",
      " 24  STL     708 non-null    float64\n",
      " 25  BLK     708 non-null    float64\n",
      " 26  TOV     708 non-null    float64\n",
      " 27  PF      708 non-null    float64\n",
      " 28  PTS     708 non-null    float64\n",
      "dtypes: float64(23), int64(3), object(3)\n",
      "memory usage: 165.9+ KB\n"
     ]
    }
   ],
   "source": [
    "nba.info()"
   ]
  },
  {
   "cell_type": "code",
   "execution_count": 5,
   "metadata": {
    "id": "nexhn_Qr-T34",
    "outputId": "a3f7d01f-83cf-4492-b283-9f1d8ced5a80"
   },
   "outputs": [
    {
     "data": {
      "text/html": [
       "<div>\n",
       "<style scoped>\n",
       "    .dataframe tbody tr th:only-of-type {\n",
       "        vertical-align: middle;\n",
       "    }\n",
       "\n",
       "    .dataframe tbody tr th {\n",
       "        vertical-align: top;\n",
       "    }\n",
       "\n",
       "    .dataframe thead th {\n",
       "        text-align: right;\n",
       "    }\n",
       "</style>\n",
       "<table border=\"1\" class=\"dataframe\">\n",
       "  <thead>\n",
       "    <tr style=\"text-align: right;\">\n",
       "      <th></th>\n",
       "      <th>FG</th>\n",
       "      <th>AST</th>\n",
       "      <th>3PA</th>\n",
       "      <th>PTS</th>\n",
       "    </tr>\n",
       "  </thead>\n",
       "  <tbody>\n",
       "    <tr>\n",
       "      <th>1</th>\n",
       "      <td>1.8</td>\n",
       "      <td>0.6</td>\n",
       "      <td>4.1</td>\n",
       "      <td>5.3</td>\n",
       "    </tr>\n",
       "    <tr>\n",
       "      <th>2</th>\n",
       "      <td>0.4</td>\n",
       "      <td>0.8</td>\n",
       "      <td>1.5</td>\n",
       "      <td>1.7</td>\n",
       "    </tr>\n",
       "    <tr>\n",
       "      <th>3</th>\n",
       "      <td>1.1</td>\n",
       "      <td>1.9</td>\n",
       "      <td>2.2</td>\n",
       "      <td>3.2</td>\n",
       "    </tr>\n",
       "    <tr>\n",
       "      <th>4</th>\n",
       "      <td>6.0</td>\n",
       "      <td>1.6</td>\n",
       "      <td>0.0</td>\n",
       "      <td>13.9</td>\n",
       "    </tr>\n",
       "    <tr>\n",
       "      <th>5</th>\n",
       "      <td>3.4</td>\n",
       "      <td>2.2</td>\n",
       "      <td>0.2</td>\n",
       "      <td>8.9</td>\n",
       "    </tr>\n",
       "    <tr>\n",
       "      <th>...</th>\n",
       "      <td>...</td>\n",
       "      <td>...</td>\n",
       "      <td>...</td>\n",
       "      <td>...</td>\n",
       "    </tr>\n",
       "    <tr>\n",
       "      <th>528</th>\n",
       "      <td>4.0</td>\n",
       "      <td>0.8</td>\n",
       "      <td>0.0</td>\n",
       "      <td>11.5</td>\n",
       "    </tr>\n",
       "    <tr>\n",
       "      <th>529</th>\n",
       "      <td>3.1</td>\n",
       "      <td>0.9</td>\n",
       "      <td>0.0</td>\n",
       "      <td>7.8</td>\n",
       "    </tr>\n",
       "    <tr>\n",
       "      <th>530</th>\n",
       "      <td>3.6</td>\n",
       "      <td>1.1</td>\n",
       "      <td>0.0</td>\n",
       "      <td>8.9</td>\n",
       "    </tr>\n",
       "    <tr>\n",
       "      <th>530</th>\n",
       "      <td>3.4</td>\n",
       "      <td>0.8</td>\n",
       "      <td>0.0</td>\n",
       "      <td>8.5</td>\n",
       "    </tr>\n",
       "    <tr>\n",
       "      <th>530</th>\n",
       "      <td>3.8</td>\n",
       "      <td>1.5</td>\n",
       "      <td>0.0</td>\n",
       "      <td>9.4</td>\n",
       "    </tr>\n",
       "  </tbody>\n",
       "</table>\n",
       "<p>708 rows × 4 columns</p>\n",
       "</div>"
      ],
      "text/plain": [
       "      FG  AST  3PA   PTS\n",
       "1    1.8  0.6  4.1   5.3\n",
       "2    0.4  0.8  1.5   1.7\n",
       "3    1.1  1.9  2.2   3.2\n",
       "4    6.0  1.6  0.0  13.9\n",
       "5    3.4  2.2  0.2   8.9\n",
       "..   ...  ...  ...   ...\n",
       "528  4.0  0.8  0.0  11.5\n",
       "529  3.1  0.9  0.0   7.8\n",
       "530  3.6  1.1  0.0   8.9\n",
       "530  3.4  0.8  0.0   8.5\n",
       "530  3.8  1.5  0.0   9.4\n",
       "\n",
       "[708 rows x 4 columns]"
      ]
     },
     "execution_count": 5,
     "metadata": {},
     "output_type": "execute_result"
    }
   ],
   "source": [
    "# extract required Columns\n",
    "e_nba = nba.loc[:,['FG','AST','3PA','PTS']]\n",
    "e_nba"
   ]
  },
  {
   "cell_type": "markdown",
   "metadata": {
    "id": "uI5z9jvS-T35"
   },
   "source": [
    "<br/><br/>\n",
    "In lecture, we saw that the predictions for the entire data set $\\hat{\\mathbb{Y}}$ can be computed as:\n",
    "\n",
    "$$ \\Large\n",
    "\\hat{\\mathbb{Y}} = \\mathbb{X} \\theta  \n",
    "$$\n",
    "\n",
    "The **design matrix** $\\mathbb{X} \\in \\mathbb{R}^{n,d+1}$ has $n$ rows corresponding to each record in the dataset and $d+1$ columns corresponding to the original $d$ columns in the data plus an additional 1s column vector (**bias/intercept feature**).\n",
    "\n",
    "Let's build this design matrix using Pandas:"
   ]
  },
  {
   "cell_type": "code",
   "execution_count": 6,
   "metadata": {
    "id": "8j0SChf5-T35",
    "outputId": "c0255c17-27ea-4dea-9067-39c15402a808"
   },
   "outputs": [
    {
     "data": {
      "text/html": [
       "<div>\n",
       "<style scoped>\n",
       "    .dataframe tbody tr th:only-of-type {\n",
       "        vertical-align: middle;\n",
       "    }\n",
       "\n",
       "    .dataframe tbody tr th {\n",
       "        vertical-align: top;\n",
       "    }\n",
       "\n",
       "    .dataframe thead th {\n",
       "        text-align: right;\n",
       "    }\n",
       "</style>\n",
       "<table border=\"1\" class=\"dataframe\">\n",
       "  <thead>\n",
       "    <tr style=\"text-align: right;\">\n",
       "      <th></th>\n",
       "      <th>Bias</th>\n",
       "      <th>FG</th>\n",
       "      <th>AST</th>\n",
       "      <th>3PA</th>\n",
       "      <th>PTS</th>\n",
       "    </tr>\n",
       "  </thead>\n",
       "  <tbody>\n",
       "    <tr>\n",
       "      <th>1</th>\n",
       "      <td>1</td>\n",
       "      <td>1.8</td>\n",
       "      <td>0.6</td>\n",
       "      <td>4.1</td>\n",
       "      <td>5.3</td>\n",
       "    </tr>\n",
       "    <tr>\n",
       "      <th>2</th>\n",
       "      <td>1</td>\n",
       "      <td>0.4</td>\n",
       "      <td>0.8</td>\n",
       "      <td>1.5</td>\n",
       "      <td>1.7</td>\n",
       "    </tr>\n",
       "    <tr>\n",
       "      <th>3</th>\n",
       "      <td>1</td>\n",
       "      <td>1.1</td>\n",
       "      <td>1.9</td>\n",
       "      <td>2.2</td>\n",
       "      <td>3.2</td>\n",
       "    </tr>\n",
       "    <tr>\n",
       "      <th>4</th>\n",
       "      <td>1</td>\n",
       "      <td>6.0</td>\n",
       "      <td>1.6</td>\n",
       "      <td>0.0</td>\n",
       "      <td>13.9</td>\n",
       "    </tr>\n",
       "    <tr>\n",
       "      <th>5</th>\n",
       "      <td>1</td>\n",
       "      <td>3.4</td>\n",
       "      <td>2.2</td>\n",
       "      <td>0.2</td>\n",
       "      <td>8.9</td>\n",
       "    </tr>\n",
       "    <tr>\n",
       "      <th>...</th>\n",
       "      <td>...</td>\n",
       "      <td>...</td>\n",
       "      <td>...</td>\n",
       "      <td>...</td>\n",
       "      <td>...</td>\n",
       "    </tr>\n",
       "    <tr>\n",
       "      <th>528</th>\n",
       "      <td>1</td>\n",
       "      <td>4.0</td>\n",
       "      <td>0.8</td>\n",
       "      <td>0.0</td>\n",
       "      <td>11.5</td>\n",
       "    </tr>\n",
       "    <tr>\n",
       "      <th>529</th>\n",
       "      <td>1</td>\n",
       "      <td>3.1</td>\n",
       "      <td>0.9</td>\n",
       "      <td>0.0</td>\n",
       "      <td>7.8</td>\n",
       "    </tr>\n",
       "    <tr>\n",
       "      <th>530</th>\n",
       "      <td>1</td>\n",
       "      <td>3.6</td>\n",
       "      <td>1.1</td>\n",
       "      <td>0.0</td>\n",
       "      <td>8.9</td>\n",
       "    </tr>\n",
       "    <tr>\n",
       "      <th>530</th>\n",
       "      <td>1</td>\n",
       "      <td>3.4</td>\n",
       "      <td>0.8</td>\n",
       "      <td>0.0</td>\n",
       "      <td>8.5</td>\n",
       "    </tr>\n",
       "    <tr>\n",
       "      <th>530</th>\n",
       "      <td>1</td>\n",
       "      <td>3.8</td>\n",
       "      <td>1.5</td>\n",
       "      <td>0.0</td>\n",
       "      <td>9.4</td>\n",
       "    </tr>\n",
       "  </tbody>\n",
       "</table>\n",
       "<p>708 rows × 5 columns</p>\n",
       "</div>"
      ],
      "text/plain": [
       "     Bias   FG  AST  3PA   PTS\n",
       "1       1  1.8  0.6  4.1   5.3\n",
       "2       1  0.4  0.8  1.5   1.7\n",
       "3       1  1.1  1.9  2.2   3.2\n",
       "4       1  6.0  1.6  0.0  13.9\n",
       "5       1  3.4  2.2  0.2   8.9\n",
       "..    ...  ...  ...  ...   ...\n",
       "528     1  4.0  0.8  0.0  11.5\n",
       "529     1  3.1  0.9  0.0   7.8\n",
       "530     1  3.6  1.1  0.0   8.9\n",
       "530     1  3.4  0.8  0.0   8.5\n",
       "530     1  3.8  1.5  0.0   9.4\n",
       "\n",
       "[708 rows x 5 columns]"
      ]
     },
     "execution_count": 6,
     "metadata": {},
     "output_type": "execute_result"
    }
   ],
   "source": [
    "# insert bias term with dataframe\n",
    "e_nba.insert(0,'Bias',1)\n",
    "e_nba"
   ]
  },
  {
   "cell_type": "code",
   "execution_count": 7,
   "metadata": {
    "id": "QR8zQX6o-T35",
    "outputId": "b5093186-77ab-48e7-e86d-f92de1f070c6"
   },
   "outputs": [
    {
     "data": {
      "text/plain": [
       "(708, 4)"
      ]
     },
     "execution_count": 7,
     "metadata": {},
     "output_type": "execute_result"
    }
   ],
   "source": [
    "# the data shape\n",
    "e_nba = e_nba.loc[:,['Bias','FG','AST','3PA']]\n",
    "e_nba.shape\n"
   ]
  },
  {
   "cell_type": "markdown",
   "metadata": {
    "id": "THA-GlB4-T36"
   },
   "source": [
    "While we're at it, let's build the $\\mathbb{Y}$ vector of our true `PTS` values."
   ]
  },
  {
   "cell_type": "code",
   "execution_count": 8,
   "metadata": {
    "id": "_X_UitBv-T36",
    "outputId": "48e47794-540d-4c84-b69f-dd14158d5e9b"
   },
   "outputs": [
    {
     "name": "stdout",
     "output_type": "stream",
     "text": [
      "number of datapoints  708\n"
     ]
    },
    {
     "data": {
      "text/plain": [
       "array([[ 5.3],\n",
       "       [ 1.7],\n",
       "       [ 3.2],\n",
       "       [13.9],\n",
       "       [ 8.9]])"
      ]
     },
     "execution_count": 8,
     "metadata": {},
     "output_type": "execute_result"
    }
   ],
   "source": [
    "# For nba data\n",
    "# how many observations\n",
    "# visualize few\n",
    "n = e_nba.shape[0]\n",
    "print('number of datapoints ', n)\n",
    "\n",
    "y = nba['PTS'].values\n",
    "y = y.reshape(-1,1)\n",
    "y[:5]"
   ]
  },
  {
   "cell_type": "markdown",
   "metadata": {
    "id": "PvErkOWB-T36"
   },
   "source": [
    "---\n",
    "## Example prediction\n",
    "\n",
    "Suppose we decide to pick an arbitrary parameter $\\theta$:\n",
    "\n",
    "$$\\theta = \\begin{bmatrix}0.50 \\\\ -0.14 \\\\ 0.65 \\\\ 1.52 \\end{bmatrix}$$\n",
    "\n",
    "(For those interested: I drew these from random values simulated from a standard normal distribution using `np.random.randn`.)"
   ]
  },
  {
   "cell_type": "code",
   "execution_count": 9,
   "metadata": {
    "id": "40jQhvHO-T36",
    "outputId": "7b2e430a-580b-4d98-cb19-3ba65521ed72"
   },
   "outputs": [
    {
     "data": {
      "text/plain": [
       "array([[ 0.5 ],\n",
       "       [-1.14],\n",
       "       [ 0.65],\n",
       "       [ 1.52]])"
      ]
     },
     "execution_count": 9,
     "metadata": {},
     "output_type": "execute_result"
    }
   ],
   "source": [
    "theta_arbitrary = np.array([[0.5], [-1.14], [0.65], [1.52]])\n",
    "theta_arbitrary"
   ]
  },
  {
   "cell_type": "markdown",
   "metadata": {
    "id": "VDMSU0RJ-T36"
   },
   "source": [
    "For this value of $\\theta$ we can make a prediction using our model with matrix multiplication.\n",
    "\n",
    "The `@` symbol is the matrix multiply operation and is equivalent to writing `xt.dot(theta)`."
   ]
  },
  {
   "cell_type": "code",
   "execution_count": 10,
   "metadata": {
    "id": "ByMaPlMY-T37",
    "outputId": "a2e00d56-f0e5-49bf-82bc-3a089d6fd098"
   },
   "outputs": [
    {
     "data": {
      "text/plain": [
       "(array([[ 5.07 ],\n",
       "        [ 2.844],\n",
       "        [ 3.825],\n",
       "        [-5.3  ],\n",
       "        [-1.642]]),\n",
       " array([[ 5.3],\n",
       "        [ 1.7],\n",
       "        [ 3.2],\n",
       "        [13.9],\n",
       "        [ 8.9]]))"
      ]
     },
     "execution_count": 10,
     "metadata": {},
     "output_type": "execute_result"
    }
   ],
   "source": [
    "# apply the above random values on 'X' and predict 'y'\n",
    "X = e_nba.values\n",
    "X\n",
    "\n",
    "Y_hat = X @ theta_arbitrary\n",
    "Y_hat[:5], y[:5]"
   ]
  },
  {
   "cell_type": "markdown",
   "metadata": {
    "id": "NZKDVThR-T37"
   },
   "source": [
    "## Computing MSE\n",
    "\n",
    "For Ordinary Least Squares, the average loss is MSE:\n",
    "\n",
    "$$ \\Large R(\\theta) = \\frac{1}{n} || \\mathbb{Y} - \\mathbb{X}\\theta||^2_2 $$\n",
    "\n",
    "NumPy has a handy function `np.linalg.norm` that computes the norm of a matrix (default is L2 norm)."
   ]
  },
  {
   "cell_type": "code",
   "execution_count": 11,
   "metadata": {
    "id": "y3L68YUf-T37",
    "outputId": "858afa56-c0b8-44bf-aeaf-4dd65ac79026"
   },
   "outputs": [
    {
     "data": {
      "text/plain": [
       "np.float64(57637.90184547457)"
      ]
     },
     "execution_count": 11,
     "metadata": {},
     "output_type": "execute_result"
    }
   ],
   "source": [
    "theta_arbitrary = np.array([0.5, -1.14, 0.65, 1.52])\n",
    "def mse_nba(theta):\n",
    "    \"\"\"\n",
    "    Y is PTS\n",
    "    X is intercept, FG, AST, 3PA\n",
    "    \"\"\"\n",
    "    # compute MSE\n",
    "    mse = np.linalg.norm(y-X @ theta)**2/n\n",
    "    return mse\n",
    "\n",
    "mse_nba(theta_arbitrary)"
   ]
  },
  {
   "cell_type": "markdown",
   "metadata": {
    "id": "rqAmuXOP-T37"
   },
   "source": [
    "Is this good? Is this bad? Let's compute the optimal theta and compare!"
   ]
  },
  {
   "cell_type": "markdown",
   "metadata": {
    "id": "nQJfj5x2-T37"
   },
   "source": [
    "---\n",
    "## Implementing Least Squares\n",
    "\n",
    "From lecture, the Least Squares Estimate $\\hat{\\theta}$ is:\n",
    "$$\n",
    "\\Large \\hat{\\theta} = \\left( \\mathbb{X}^{\\top} \\mathbb{X} \\right)^{-1} \\mathbb{X}^{\\top} \\mathbb{Y}\n",
    "$$"
   ]
  },
  {
   "cell_type": "markdown",
   "metadata": {
    "id": "jYc8Yftk-T37"
   },
   "source": [
    "While it is not as numerically stable or efficient. We can compute $\\hat{\\theta}$ by direction using matrix inversion. To do this, we import the `inv` function for the `numpy` linear algebra library:"
   ]
  },
  {
   "cell_type": "code",
   "execution_count": 12,
   "metadata": {
    "id": "-vy65j9k-T38"
   },
   "outputs": [],
   "source": [
    "from numpy.linalg import inv"
   ]
  },
  {
   "cell_type": "code",
   "execution_count": 13,
   "metadata": {
    "id": "i5tD1VNK-T38",
    "outputId": "8f834243-3b38-42b6-d204-80013311700f"
   },
   "outputs": [
    {
     "data": {
      "text/plain": [
       "array([[-0.29253798],\n",
       "       [ 2.51705703],\n",
       "       [ 0.05075571],\n",
       "       [ 0.31307653]])"
      ]
     },
     "execution_count": 13,
     "metadata": {},
     "output_type": "execute_result"
    }
   ],
   "source": [
    "def least_squares_estimate(X, Y):\n",
    "    theta_hat = inv(X.T @ X) @ X.T @ y\n",
    "    # code here\n",
    "    return theta_hat\n",
    "\n",
    "theta_hat = least_squares_estimate(X, y)\n",
    "theta_hat"
   ]
  },
  {
   "cell_type": "code",
   "execution_count": 14,
   "metadata": {
    "id": "NsKP5S7X-T38",
    "outputId": "9f6dbe31-323b-446e-9f35-93688cb67683"
   },
   "outputs": [
    {
     "name": "stdout",
     "output_type": "stream",
     "text": [
      "Arbitrary theta MSE:  57637.90184547457\n",
      "Optimal theta MSE: 0.39631333290803367\n"
     ]
    }
   ],
   "source": [
    "print(\"Arbitrary theta MSE: \", mse_nba(theta_arbitrary))\n",
    "print(\"Optimal theta MSE:\"  , mse_nba(theta_hat))"
   ]
  },
  {
   "cell_type": "markdown",
   "metadata": {
    "id": "0yoSX3ug-T38"
   },
   "source": [
    "Nice!!!\n",
    "\n",
    "---\n",
    "## Making Least Squares Predictions\n",
    "\n",
    "Now that we have estimated the model parameters $\\hat{\\theta}$ we can now also predict the points scored $\\hat{\\mathbb{Y}}$ for each of our players."
   ]
  },
  {
   "cell_type": "code",
   "execution_count": 15,
   "metadata": {
    "id": "3tVy8CcM-T38"
   },
   "outputs": [],
   "source": [
    "Y_hat = X @ theta_hat"
   ]
  },
  {
   "cell_type": "markdown",
   "metadata": {
    "id": "pYx9hJ8j-T38"
   },
   "source": [
    "<br/>\n",
    "\n",
    "---\n",
    "\n",
    "## Model Performance/Diagnosing the Model\n",
    "\n",
    "In previous lectures, we have plotted the residual vs. our single input feature $x$.\n",
    "\n",
    "For higher dimensional regression models, we often graph the residual with respect to the fitted values $\\hat{y}$."
   ]
  },
  {
   "cell_type": "code",
   "execution_count": 16,
   "metadata": {
    "id": "_QVJEvp8-T39",
    "outputId": "965ca4eb-a660-49f5-a360-624bbde2875e"
   },
   "outputs": [
    {
     "data": {
      "image/png": "[encoded data removed]",
      "text/plain": [
       "<Figure size 640x480 with 1 Axes>"
      ]
     },
     "metadata": {},
     "output_type": "display_data"
    }
   ],
   "source": [
    "# code here\n",
    "Y_pred = X @ theta_hat\n",
    "residuals = y - Y_hat\n",
    "\n",
    "plt.scatter(Y_pred, residuals, alpha=1)\n",
    "plt.axhline(0, color='orange', linestyle='-', linewidth = 3)\n",
    "plt.xlabel('Y_pred')\n",
    "plt.ylabel('Residuals')\n",
    "plt.xlim(0, 30)\n",
    "plt.show()"
   ]
  },
  {
   "cell_type": "markdown",
   "metadata": {
    "id": "HExge_K6-T39"
   },
   "source": [
    "Overall while the residuals are roughly centered around 0 ($\\hat{y} = y$), we see **heteroskedasticity**: Our regression spread is uneven, particularly as predictions get big."
   ]
  },
  {
   "cell_type": "markdown",
   "metadata": {
    "id": "gmOGHiUr-T39"
   },
   "source": [
    "## Multiple $R^2$"
   ]
  },
  {
   "cell_type": "markdown",
   "metadata": {
    "id": "DIL256Fp-T39"
   },
   "source": [
    "Let's compute the coefficient of determination, or **multiple $R^2$**, for our model."
   ]
  },
  {
   "cell_type": "code",
   "execution_count": 17,
   "metadata": {
    "id": "yp_VpgHV-T39",
    "outputId": "c792ee08-57da-4c42-babc-c777c53f5821"
   },
   "outputs": [
    {
     "name": "stdout",
     "output_type": "stream",
     "text": [
      "0.9883162128703227\n"
     ]
    }
   ],
   "source": [
    "# code here\n",
    "import numpy as np\n",
    "SS_res = np.sum((y - Y_hat) ** 2)\n",
    "SS_tot = np.sum((y - np.mean(y)) ** 2)\n",
    "\n",
    "R_squared = 1 - (SS_res / SS_tot)\n",
    "print(R_squared)\n"
   ]
  },
  {
   "cell_type": "markdown",
   "metadata": {
    "id": "A-0h8Dky-T39"
   },
   "source": [
    "That's super high!!! Wait, what's up with that?\n",
    "\n",
    "(Hint: Basketball facts)\n",
    "\n",
    "Let's try reducing the number of features to see how this Multiple $R^2$ metric changes."
   ]
  },
  {
   "cell_type": "code",
   "execution_count": 18,
   "metadata": {
    "id": "7B2-bLs9-T39",
    "outputId": "f9bb4e19-19c4-43a9-f4c1-4bce6cec0758"
   },
   "outputs": [
    {
     "data": {
      "text/plain": [
       "array([[1. , 0.6, 4.1],\n",
       "       [1. , 0.8, 1.5],\n",
       "       [1. , 1.9, 2.2],\n",
       "       ...,\n",
       "       [1. , 1.1, 0. ],\n",
       "       [1. , 0.8, 0. ],\n",
       "       [1. , 1.5, 0. ]])"
      ]
     },
     "execution_count": 18,
     "metadata": {},
     "output_type": "execute_result"
    }
   ],
   "source": [
    "# Use intercept, AST, 3PA\n",
    "e_nba_reduced = e_nba.loc[:, ['Bias', 'AST', '3PA']]\n",
    "X_reduced = e_nba_reduced.values\n",
    "X_reduced"
   ]
  },
  {
   "cell_type": "code",
   "execution_count": 19,
   "metadata": {},
   "outputs": [
    {
     "name": "stdout",
     "output_type": "stream",
     "text": [
      "0.6087862763665718\n"
     ]
    }
   ],
   "source": [
    "theta_hat_reduced = least_squares_estimate(X_reduced, y)\n",
    "Y_hat_reduced = X_reduced @ theta_hat_reduced\n",
    "\n",
    "SS_res_reduced = np.sum((y - Y_hat_reduced) ** 2)\n",
    "SS_tot_reduced = np.sum((y - np.mean(y)) ** 2)\n",
    "R_squared_reduced = 1 - (SS_res_reduced / SS_tot_reduced)\n",
    "\n",
    "print(R_squared_reduced)"
   ]
  },
  {
   "cell_type": "code",
   "execution_count": 20,
   "metadata": {
    "id": "mNI37-m5-T3-",
    "outputId": "7abbd03c-a563-4fc2-ac83-5632cb2f27f5"
   },
   "outputs": [
    {
     "data": {
      "text/plain": [
       "array([[1. , 0.6],\n",
       "       [1. , 0.8],\n",
       "       [1. , 1.9],\n",
       "       ...,\n",
       "       [1. , 1.1],\n",
       "       [1. , 0.8],\n",
       "       [1. , 1.5]])"
      ]
     },
     "execution_count": 20,
     "metadata": {},
     "output_type": "execute_result"
    }
   ],
   "source": [
    "# Use intercept, AST only (SLR)\n",
    "e_nba_slr = e_nba.loc[:, ['Bias', 'AST']]\n",
    "X_slr = e_nba_slr.values\n",
    "X_slr"
   ]
  },
  {
   "cell_type": "code",
   "execution_count": 21,
   "metadata": {},
   "outputs": [
    {
     "name": "stdout",
     "output_type": "stream",
     "text": [
      "0.45700555079685967\n"
     ]
    }
   ],
   "source": [
    "theta_hat_slr = least_squares_estimate(X_slr, y)\n",
    "Y_hat_slr = X_slr @ theta_hat_slr\n",
    "\n",
    "SS_res_slr = np.sum((y - Y_hat_slr) ** 2)\n",
    "SS_tot_slr = np.sum((y - np.mean(y)) ** 2)\n",
    "R_squared_slr = 1 - (SS_res_slr / SS_tot_slr)\n",
    "\n",
    "print(R_squared_slr)"
   ]
  },
  {
   "cell_type": "code",
   "execution_count": 22,
   "metadata": {
    "id": "HVYBQKwr-T3-",
    "outputId": "c89e4bcc-51e7-4ff4-bff1-ad31794dd9ff"
   },
   "outputs": [
    {
     "data": {
      "text/plain": [
       "array([[3.98332315],\n",
       "       [2.39888152]])"
      ]
     },
     "execution_count": 22,
     "metadata": {},
     "output_type": "execute_result"
    }
   ],
   "source": [
    "theta_ast_only = theta_hat_slr\n",
    "theta_ast_only"
   ]
  },
  {
   "cell_type": "code",
   "execution_count": 23,
   "metadata": {
    "id": "d6AscYjq-T3-",
    "outputId": "6207bb4d-1ada-4a1d-b2dc-eca5eed6b4bd"
   },
   "outputs": [
    {
     "data": {
      "text/plain": [
       "array([[-0.29253798],\n",
       "       [ 2.51705703],\n",
       "       [ 0.05075571],\n",
       "       [ 0.31307653]])"
      ]
     },
     "execution_count": 23,
     "metadata": {},
     "output_type": "execute_result"
    }
   ],
   "source": [
    "theta_hat"
   ]
  },
  {
   "cell_type": "markdown",
   "metadata": {
    "id": "vo0A33bR-T3-"
   },
   "source": [
    "Comparing these Multiple $R^2$ together:"
   ]
  },
  {
   "cell_type": "code",
   "execution_count": 24,
   "metadata": {
    "id": "LzCmPVjL-T4D",
    "outputId": "e3214633-038d-4b5e-bb91-04adf74d9c2f"
   },
   "outputs": [
    {
     "name": "stdout",
     "output_type": "stream",
     "text": [
      "(SLR) intercept, AST:     0.45700555079685967\n",
      "intercept, 3PA, AST:      0.6087862763665718\n",
      "intercept, FG, 3PA, AST:  0.9883162128703227\n"
     ]
    }
   ],
   "source": [
    "print(\"(SLR) intercept, AST:    \", R_squared_slr)\n",
    "print(\"intercept, 3PA, AST:     \", R_squared_reduced)\n",
    "print(\"intercept, FG, 3PA, AST: \", R_squared)"
   ]
  },
  {
   "cell_type": "markdown",
   "metadata": {
    "id": "gFQl4RBN-T4D"
   },
   "source": [
    "Because of how basketball is scored, knowing Field Goals `FG` *and* 3 point goal attempts `3PA` will reliably tell you how many total points a player scored in that game. This is assuming NBA players make a good number of their 3 pointers."
   ]
  },
  {
   "cell_type": "markdown",
   "metadata": {
    "id": "cIBEVgMV-T4E"
   },
   "source": [
    "Side note, if you wanted to check that Multiple R^2 for Simple Linear Regression is indeed correlation coefficient $r^2$:"
   ]
  },
  {
   "cell_type": "code",
   "execution_count": 25,
   "metadata": {
    "id": "Wf2m_Iq4-T4E",
    "outputId": "73a44a9b-57b0-4d6e-930c-db23354a57f6"
   },
   "outputs": [
    {
     "data": {
      "text/plain": [
       "np.float64(0.4570055507968598)"
      ]
     },
     "execution_count": 25,
     "metadata": {},
     "output_type": "execute_result"
    }
   ],
   "source": [
    "r = np.corrcoef(nba['AST'], nba['PTS'])[0,1]\n",
    "r ** 2"
   ]
  },
  {
   "cell_type": "code",
   "execution_count": null,
   "metadata": {},
   "outputs": [],
   "source": []
  }
 ],
 "metadata": {
  "colab": {
   "provenance": []
  },
  "kernelspec": {
   "display_name": "Python 3 (ipykernel)",
   "language": "python",
   "name": "python3"
  },
  "language_info": {
   "codemirror_mode": {
    "name": "ipython",
    "version": 3
   },
   "file_extension": ".py",
   "mimetype": "text/x-python",
   "name": "python",
   "nbconvert_exporter": "python",
   "pygments_lexer": "ipython3",
   "version": "3.12.4"
  }
 },
 "nbformat": 4,
 "nbformat_minor": 4
}
